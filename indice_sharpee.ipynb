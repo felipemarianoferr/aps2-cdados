{
 "cells": [
  {
   "cell_type": "code",
   "execution_count": 315,
   "metadata": {},
   "outputs": [],
   "source": [
    "import yfinance as yf\n",
    "import matplotlib.pyplot as plt\n",
    "import pandas as pd"
   ]
  },
  {
   "cell_type": "code",
   "execution_count": 316,
   "metadata": {},
   "outputs": [],
   "source": [
    "acoes = {\n",
    "    # AGRO\n",
    "    'acao1': 'SLCE3.SA',\n",
    "    'acao2': 'AGRO3.SA',\n",
    "    'acao3': 'VALE3.SA',\n",
    "    'acao4': 'SMTO3.SA',\n",
    "    'acao5': 'BRFS3.SA',\n",
    "    \n",
    "    # BANCARIO\n",
    "    'acao6': 'BBAS3.SA',\n",
    "    'acao7': 'ITUB4.SA',\n",
    "    'acao8': 'BBDC4.SA',\n",
    "    'acao9': 'SANB11.SA',\n",
    "    'acao10': 'PETR4.SA',\n",
    "    \n",
    "    # TRANSPORTE\n",
    "    'acao11': 'GOLL4.SA',\n",
    "    'acao12': 'AZUL4.SA',\n",
    "    'acao13': 'RAIL3.SA',\n",
    "    'acao14': 'CCRO3.SA',\n",
    "    'acao15': 'JSLG3.SA',\n",
    "    \n",
    "    # TECNOLOGICO\n",
    "    'acao16': 'TOTS3.SA',\n",
    "    'acao17': 'IGTI11.SA',\n",
    "    'acao18': 'POSI3.SA',\n",
    "    'acao19': 'LWSA3.SA',\n",
    "    'acao20': 'BMOB3.SA'\n",
    "}\n"
   ]
  },
  {
   "cell_type": "code",
   "execution_count": 317,
   "metadata": {},
   "outputs": [],
   "source": [
    "tickers = {}\n",
    "i = 1\n",
    "for acao in acoes.values():\n",
    "    tickers[f'ticker{i}'] = yf.Ticker(acao)\n",
    "    i += 1\n"
   ]
  },
  {
   "cell_type": "code",
   "execution_count": 318,
   "metadata": {},
   "outputs": [],
   "source": [
    "investimento_inicial = 1000\n",
    "j = 1\n",
    "datas = {}\n",
    "for ticker in tickers.values():\n",
    "    datas[f'data{j}'] = ticker.history(period='1y')\n",
    "    j += 1"
   ]
  },
  {
   "cell_type": "code",
   "execution_count": 319,
   "metadata": {},
   "outputs": [],
   "source": [
    "def ret_total(datas, data, inv_inicial):\n",
    "    n_acoes = inv_inicial / datas[data].iloc[0]['Close']\n",
    "    datas[data]['Valor investido'] = n_acoes * datas[data]['Close']\n",
    "    ret_total = (datas[data].iloc[-1]['Valor investido'] / datas[data].iloc[0]['Valor investido'] - 1)\n",
    "    return ret_total\n",
    "def ret_diario(datas, data):\n",
    "    ret = datas[data]['Valor investido'].pct_change()\n",
    "    return ret\n",
    "def desvio_padrao(datas, data):\n",
    "    sigma = ret_diario(datas, data).std()\n",
    "    return sigma\n",
    "def sharpee(datas, data, inv_inicial):\n",
    "    sharpee = (ret_total(datas, data, inv_inicial)) / (desvio_padrao(datas, data))\n",
    "    return sharpee\n"
   ]
  },
  {
   "cell_type": "code",
   "execution_count": 320,
   "metadata": {},
   "outputs": [
    {
     "name": "stdout",
     "output_type": "stream",
     "text": [
      "-0.5507742395092986\n"
     ]
    },
    {
     "data": {
      "text/html": [
       "<div>\n",
       "<style scoped>\n",
       "    .dataframe tbody tr th:only-of-type {\n",
       "        vertical-align: middle;\n",
       "    }\n",
       "\n",
       "    .dataframe tbody tr th {\n",
       "        vertical-align: top;\n",
       "    }\n",
       "\n",
       "    .dataframe thead th {\n",
       "        text-align: right;\n",
       "    }\n",
       "</style>\n",
       "<table border=\"1\" class=\"dataframe\">\n",
       "  <thead>\n",
       "    <tr style=\"text-align: right;\">\n",
       "      <th></th>\n",
       "      <th>Valor investido</th>\n",
       "    </tr>\n",
       "    <tr>\n",
       "      <th>Date</th>\n",
       "      <th></th>\n",
       "    </tr>\n",
       "  </thead>\n",
       "  <tbody>\n",
       "    <tr>\n",
       "      <th>2023-04-04 00:00:00-03:00</th>\n",
       "      <td>1000.000000</td>\n",
       "    </tr>\n",
       "    <tr>\n",
       "      <th>2023-04-05 00:00:00-03:00</th>\n",
       "      <td>962.247670</td>\n",
       "    </tr>\n",
       "    <tr>\n",
       "      <th>2023-04-06 00:00:00-03:00</th>\n",
       "      <td>968.973656</td>\n",
       "    </tr>\n",
       "    <tr>\n",
       "      <th>2023-04-10 00:00:00-03:00</th>\n",
       "      <td>981.774684</td>\n",
       "    </tr>\n",
       "    <tr>\n",
       "      <th>2023-04-11 00:00:00-03:00</th>\n",
       "      <td>1004.122300</td>\n",
       "    </tr>\n",
       "    <tr>\n",
       "      <th>...</th>\n",
       "      <td>...</td>\n",
       "    </tr>\n",
       "    <tr>\n",
       "      <th>2024-03-28 00:00:00-03:00</th>\n",
       "      <td>1007.398789</td>\n",
       "    </tr>\n",
       "    <tr>\n",
       "      <th>2024-04-01 00:00:00-03:00</th>\n",
       "      <td>1018.603391</td>\n",
       "    </tr>\n",
       "    <tr>\n",
       "      <th>2024-04-02 00:00:00-03:00</th>\n",
       "      <td>1009.435945</td>\n",
       "    </tr>\n",
       "    <tr>\n",
       "      <th>2024-04-03 00:00:00-03:00</th>\n",
       "      <td>1008.417319</td>\n",
       "    </tr>\n",
       "    <tr>\n",
       "      <th>2024-04-04 00:00:00-03:00</th>\n",
       "      <td>991.101053</td>\n",
       "    </tr>\n",
       "  </tbody>\n",
       "</table>\n",
       "<p>249 rows × 1 columns</p>\n",
       "</div>"
      ],
      "text/plain": [
       "                           Valor investido\n",
       "Date                                      \n",
       "2023-04-04 00:00:00-03:00      1000.000000\n",
       "2023-04-05 00:00:00-03:00       962.247670\n",
       "2023-04-06 00:00:00-03:00       968.973656\n",
       "2023-04-10 00:00:00-03:00       981.774684\n",
       "2023-04-11 00:00:00-03:00      1004.122300\n",
       "...                                    ...\n",
       "2024-03-28 00:00:00-03:00      1007.398789\n",
       "2024-04-01 00:00:00-03:00      1018.603391\n",
       "2024-04-02 00:00:00-03:00      1009.435945\n",
       "2024-04-03 00:00:00-03:00      1008.417319\n",
       "2024-04-04 00:00:00-03:00       991.101053\n",
       "\n",
       "[249 rows x 1 columns]"
      ]
     },
     "execution_count": 320,
     "metadata": {},
     "output_type": "execute_result"
    }
   ],
   "source": [
    "#portifolio\n",
    "#data 1\n",
    "ret_total(datas, 'data1', 1000)\n",
    "ret_diario(datas, 'data1')\n",
    "desvio_padrao(datas, 'data1')\n",
    "print(sharpee(datas, 'data1', 1000))\n",
    "datap = pd.DataFrame()\n",
    "datap['Valor investido'] = datas[\"data1\"]['Valor investido']\n",
    "datap\n"
   ]
  },
  {
   "cell_type": "code",
   "execution_count": 321,
   "metadata": {},
   "outputs": [
    {
     "name": "stdout",
     "output_type": "stream",
     "text": [
      "portifolio    1.000000\n",
      "acao1         1.000000\n",
      "acao2         0.388290\n",
      "acao17        0.333834\n",
      "acao9         0.299252\n",
      "acao20        0.276807\n",
      "acao16        0.258548\n",
      "acao3         0.253745\n",
      "acao14        0.240227\n",
      "acao7         0.229680\n",
      "acao15        0.223403\n",
      "acao13        0.218862\n",
      "acao12        0.218311\n",
      "acao4         0.213001\n",
      "acao18        0.204802\n",
      "acao19        0.190355\n",
      "acao5         0.167028\n",
      "acao6         0.139701\n",
      "acao8         0.132235\n",
      "acao11        0.132128\n",
      "acao10       -0.022209\n",
      "Name: portifolio, dtype: float64\n",
      "sharpee do portifolio é -0.5507742395092986\n"
     ]
    }
   ],
   "source": [
    "#correlacao portifolio com acao 1\n",
    "df = pd.DataFrame()\n",
    "df['portifolio'] = ret_diario(datas, 'data1')\n",
    "for k in range(1,21):\n",
    "    ret_total(datas, f'data{k}', 1000)\n",
    "    df[f'acao{k}'] = ret_diario(datas, f'data{k}')\n",
    "print(df.corr().sort_values(by='portifolio', ascending=False)['portifolio'])\n",
    "sharpee1 = sharpee(datas, 'data1', 1000)\n",
    "print(f'sharpee do portifolio é {sharpee1}')\n"
   ]
  },
  {
   "cell_type": "code",
   "execution_count": 322,
   "metadata": {},
   "outputs": [
    {
     "name": "stdout",
     "output_type": "stream",
     "text": [
      "portifolio    1.000000\n",
      "acao10        0.760908\n",
      "acao1         0.631801\n",
      "acao2         0.368309\n",
      "acao6         0.349363\n",
      "acao3         0.339731\n",
      "acao4         0.305723\n",
      "acao9         0.305331\n",
      "acao7         0.303491\n",
      "acao16        0.261923\n",
      "acao17        0.260578\n",
      "acao19        0.239974\n",
      "acao18        0.236797\n",
      "acao13        0.234231\n",
      "acao8         0.209147\n",
      "acao11        0.194863\n",
      "acao12        0.189910\n",
      "acao20        0.186564\n",
      "acao15        0.177324\n",
      "acao5         0.159534\n",
      "acao14        0.146514\n",
      "Name: portifolio, dtype: float64\n",
      "sharpee do portifolio é 37.51903660953714\n"
     ]
    }
   ],
   "source": [
    "#correlacao portifolio com acao 1 e 10\n",
    "df['portifolio'] += ret_diario(datas, 'data10')\n",
    "for k in range(1,21):\n",
    "    ret_total(datas, f'data{k}', 1000)\n",
    "    df[f'acao{k}'] = ret_diario(datas, f'data{k}')\n",
    "print(df.corr().sort_values(by='portifolio', ascending=False)['portifolio'])\n",
    "datap['Valor investido'] += datas[\"data10\"]['Valor investido']\n",
    "retp = datap['Valor investido'].pct_change()\n",
    "ret_totalp = (datap.iloc[-1]['Valor investido']/datap.iloc[0]['Valor investido'] - 1)\n",
    "sigmap = retp.std()\n",
    "sharpep = ret_totalp/sigmap\n",
    "sharpee2 = sharpep\n",
    "print(f'sharpee do portifolio é {sharpee2}')\n"
   ]
  },
  {
   "cell_type": "code",
   "execution_count": 323,
   "metadata": {},
   "outputs": [
    {
     "name": "stdout",
     "output_type": "stream",
     "text": [
      "portifolio    1.000000\n",
      "acao1         0.632300\n",
      "acao10        0.626051\n",
      "acao14        0.570970\n",
      "acao17        0.455264\n",
      "acao9         0.452420\n",
      "acao7         0.443899\n",
      "acao6         0.439723\n",
      "acao13        0.438439\n",
      "acao2         0.432138\n",
      "acao4         0.395249\n",
      "acao16        0.381771\n",
      "acao20        0.369180\n",
      "acao12        0.361744\n",
      "acao19        0.354953\n",
      "acao3         0.353413\n",
      "acao18        0.340429\n",
      "acao8         0.313004\n",
      "acao15        0.295582\n",
      "acao11        0.287987\n",
      "acao5         0.237846\n",
      "Name: portifolio, dtype: float64\n",
      "sharpee do portifolio é 34.70977446364127\n"
     ]
    }
   ],
   "source": [
    "#portifolio com acao 1, 10, 14\n",
    "df['portifolio'] += ret_diario(datas, 'data14')\n",
    "for k in range(1,21):\n",
    "    ret_total(datas, f'data{k}', 1000)\n",
    "    df[f'acao{k}'] = ret_diario(datas, f'data{k}')\n",
    "print(df.corr().sort_values(by='portifolio', ascending=False)['portifolio'])\n",
    "datap['Valor investido'] += datas[\"data14\"]['Valor investido']\n",
    "retp = datap['Valor investido'].pct_change()\n",
    "ret_totalp = (datap.iloc[-1]['Valor investido']/datap.iloc[0]['Valor investido'] - 1)\n",
    "sigmap = retp.std()\n",
    "sharpep = ret_totalp/sigmap\n",
    "sharpee3 = sharpep\n",
    "print(f'sharpee do portifolio é {sharpee3}')"
   ]
  },
  {
   "cell_type": "code",
   "execution_count": 324,
   "metadata": {},
   "outputs": [
    {
     "name": "stdout",
     "output_type": "stream",
     "text": [
      "portifolio    1.000000\n",
      "acao5         0.808367\n",
      "acao14        0.501904\n",
      "acao1         0.494162\n",
      "acao4         0.480488\n",
      "acao17        0.455697\n",
      "acao13        0.453225\n",
      "acao7         0.433579\n",
      "acao9         0.424550\n",
      "acao10        0.423235\n",
      "acao12        0.419661\n",
      "acao6         0.407203\n",
      "acao20        0.402842\n",
      "acao16        0.400717\n",
      "acao2         0.395838\n",
      "acao18        0.386787\n",
      "acao19        0.368387\n",
      "acao11        0.341649\n",
      "acao3         0.317864\n",
      "acao8         0.312221\n",
      "acao15        0.281360\n",
      "Name: portifolio, dtype: float64\n",
      "sharpee do portifolio é 49.9466531000556\n"
     ]
    }
   ],
   "source": [
    "#portifolio com acao 1, 10, 14, 5\n",
    "df['portifolio'] += ret_diario(datas, 'data5')\n",
    "for k in range(1,21):\n",
    "    ret_total(datas, f'data{k}', 1000)\n",
    "    df[f'acao{k}'] = ret_diario(datas, f'data{k}')\n",
    "print(df.corr().sort_values(by='portifolio', ascending=False)['portifolio'])\n",
    "datap['Valor investido'] += datas[\"data5\"]['Valor investido']\n",
    "retp = datap['Valor investido'].pct_change()\n",
    "ret_totalp = (datap.iloc[-1]['Valor investido']/datap.iloc[0]['Valor investido'] - 1)\n",
    "sigmap = retp.std()\n",
    "sharpep = ret_totalp/sigmap\n",
    "sharpee4 = sharpep\n",
    "print(f'sharpee do portifolio é {sharpee4}')"
   ]
  },
  {
   "cell_type": "code",
   "execution_count": 346,
   "metadata": {},
   "outputs": [
    {
     "data": {
      "image/png": "[encoded data removed]",
      "text/plain": [
       "<Figure size 640x480 with 1 Axes>"
      ]
     },
     "metadata": {},
     "output_type": "display_data"
    }
   ],
   "source": [
    "dados = [sharpee1, sharpee2, sharpee3, sharpee4]\n",
    "acoes = ['ação 1', 'ação 1 e 10', 'ação 1, 10 e 14', 'ação 1, 10, 14 e 5']\n",
    "sharp_df = pd.DataFrame()\n",
    "sharp_df['sharpe'] = dados\n",
    "sharp_df['acoes'] = acoes\n",
    "c = ['red' if value < 0 else 'green' for value in dados]\n",
    "plt.bar(acoes, dados, color = c, width=0.5)\n",
    "plt.xlabel('Ações no Portifólio')\n",
    "plt.ylabel('Sharpe por Portifólio')\n",
    "plt.title('Sharpe pela variacao de Ações no Portifólio')\n",
    "plt.grid()\n"
   ]
  }
 ],
 "metadata": {
  "kernelspec": {
   "display_name": "venv",
   "language": "python",
   "name": "python3"
  },
  "language_info": {
   "name": "python",
   "version": "3.12.1"
  }
 },
 "nbformat": 4,
 "nbformat_minor": 2
}
